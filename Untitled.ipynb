{
 "cells": [
  {
   "cell_type": "markdown",
   "id": "950edfeb",
   "metadata": {},
   "source": [
    "## 선택 정렬 소스코드"
   ]
  },
  {
   "cell_type": "code",
   "execution_count": 4,
   "id": "9cf7500d",
   "metadata": {},
   "outputs": [
    {
     "name": "stdout",
     "output_type": "stream",
     "text": [
      "-------------0--------------------\n",
      "min_index : 0\n",
      "min_index : 1\n",
      "min_index : 1\n",
      "min_index : 3\n",
      "min_index : 4\n",
      "min_index : 4\n",
      "min_index : 4\n",
      "min_index : 4\n",
      "min_index : 4\n",
      "-------------1--------------------\n",
      "min_index : 1\n",
      "min_index : 1\n",
      "min_index : 1\n",
      "min_index : 4\n",
      "min_index : 5\n",
      "min_index : 5\n",
      "min_index : 5\n",
      "min_index : 5\n",
      "-------------2--------------------\n",
      "min_index : 2\n",
      "min_index : 3\n",
      "min_index : 4\n",
      "min_index : 5\n",
      "min_index : 5\n",
      "min_index : 7\n",
      "min_index : 8\n",
      "-------------3--------------------\n",
      "min_index : 3\n",
      "min_index : 4\n",
      "min_index : 5\n",
      "min_index : 6\n",
      "min_index : 6\n",
      "min_index : 8\n",
      "-------------4--------------------\n",
      "min_index : 4\n",
      "min_index : 5\n",
      "min_index : 6\n",
      "min_index : 7\n",
      "min_index : 8\n",
      "-------------5--------------------\n",
      "min_index : 5\n",
      "min_index : 6\n",
      "min_index : 7\n",
      "min_index : 8\n",
      "-------------6--------------------\n",
      "min_index : 6\n",
      "min_index : 7\n",
      "min_index : 8\n",
      "-------------7--------------------\n",
      "min_index : 7\n",
      "min_index : 8\n",
      "-------------8--------------------\n",
      "min_index : 8\n",
      "-------------9--------------------\n",
      "[0, 1, 2, 3, 5, 6, 7, 8, 4, 9]\n"
     ]
    }
   ],
   "source": [
    "array = [7,5,9,0,3,1,6,2,4,8]\n",
    "\n",
    "for i in range(len(array)):\n",
    "    min_index = i\n",
    "    print(f'-------------{i}--------------------')\n",
    "    for j in range(i + 1, len(array)):\n",
    "        print('min_index :', min_index)\n",
    "        if array[min_index] > array[j]:\n",
    "            min_index = j\n",
    "        array[i], array[min_index] = array[min_index], array[i]\n",
    "\n",
    "print(array)"
   ]
  },
  {
   "cell_type": "markdown",
   "id": "06cf72a7",
   "metadata": {},
   "source": [
    "## 삽입 정렬 소스코드"
   ]
  },
  {
   "cell_type": "code",
   "execution_count": 14,
   "id": "31f80de2",
   "metadata": {},
   "outputs": [
    {
     "name": "stdout",
     "output_type": "stream",
     "text": [
      "-------------1--------------------\n",
      "5 7\n",
      "-------------2--------------------\n",
      "9 7\n",
      "-------------3--------------------\n",
      "0 9\n",
      "0 7\n",
      "0 5\n",
      "-------------4--------------------\n",
      "3 9\n",
      "3 7\n",
      "3 5\n",
      "3 0\n",
      "-------------5--------------------\n",
      "1 9\n",
      "1 7\n",
      "1 5\n",
      "1 3\n",
      "1 0\n",
      "-------------6--------------------\n",
      "6 9\n",
      "6 7\n",
      "6 5\n",
      "-------------7--------------------\n",
      "2 9\n",
      "2 7\n",
      "2 6\n",
      "2 5\n",
      "2 3\n",
      "2 1\n",
      "-------------8--------------------\n",
      "4 9\n",
      "4 7\n",
      "4 6\n",
      "4 5\n",
      "4 3\n",
      "-------------9--------------------\n",
      "8 9\n",
      "8 7\n",
      "[0, 1, 2, 3, 4, 5, 6, 7, 8, 9]\n"
     ]
    }
   ],
   "source": [
    "array = [7,5,9,0,3,1,6,2,4,8]\n",
    "\n",
    "for i in range(1, len(array)):\n",
    "    print(f'-------------{i}--------------------')\n",
    "    for j in range(i, 0, -1):\n",
    "        print(array[j], array[j-1])\n",
    "        if array[j] < array[j-1]:\n",
    "            # 한 칸씩 왼쪽으로 이동\n",
    "            array[j], array[j-1] = array[j-1], array[j]\n",
    "        else:\n",
    "            # 자기보다 작은 데이터를 만나면 그 위치에서 멈춤\n",
    "            break\n",
    "            \n",
    "print(array)"
   ]
  },
  {
   "cell_type": "markdown",
   "id": "92d23313",
   "metadata": {},
   "source": [
    "## 퀵 정렬 소스코드"
   ]
  },
  {
   "cell_type": "code",
   "execution_count": 28,
   "id": "44fc04fa",
   "metadata": {},
   "outputs": [
    {
     "name": "stdout",
     "output_type": "stream",
     "text": [
      "[0, 1, 2, 3, 4, 5, 6, 7, 8, 9]\n"
     ]
    }
   ],
   "source": [
    "array = [5,7,9,0,3,1,6,2,4,8]\n",
    "\n",
    "def quick_sort(array, start, end):\n",
    "    # 원소가 1개인 경우 종료\n",
    "    if (start >= end):\n",
    "        return\n",
    "    # 피벗은 첫 번째 원소\n",
    "    pivot = start\n",
    "    left = start + 1\n",
    "    right = end\n",
    "    \n",
    "    # 피벗보다 큰 데이터를 찾을 때까지 반복\n",
    "    while( left <= right ):\n",
    "        while(left <= end and array[pivot] >= array[left]):\n",
    "            left += 1\n",
    "        \n",
    "        # 피벗보다 작은 데이터를 찾을 때까지 반복\n",
    "        while(right > start and array[pivot] < array[right]):\n",
    "            right -= 1\n",
    "        \n",
    "        \n",
    "        if ( left > right ):\n",
    "            # 엇갈렸다면 작은 데이터와 피벗을 교체\n",
    "            array[pivot], array[right] = array[right], array[pivot]\n",
    "        else:\n",
    "            # 엇갈리지 않았다면 작은 데이터와 큰 데이터를 교체\n",
    "            array[left], array[right] = array[right], array[left]\n",
    "        \n",
    "      \n",
    "    # 분할 이후 왼쪽 부분과 오른쪽 부분에서 각각 정렬 수행\n",
    "    quick_sort(array, start, right - 1)\n",
    "    quick_sort(array, right + 1, end)\n",
    "    \n",
    "quick_sort(array, 0, len(array) - 1)\n",
    "print(array)"
   ]
  },
  {
   "cell_type": "code",
   "execution_count": 29,
   "id": "c90c340a",
   "metadata": {},
   "outputs": [
    {
     "name": "stdout",
     "output_type": "stream",
     "text": [
      "[5, 7, 9, 0, 3, 1, 6, 2, 4, 8]\n"
     ]
    }
   ],
   "source": [
    "array = [5,7,9,0,3,1,6,2,4,8]\n",
    "\n",
    "def quick_sort(array):\n",
    "    # 리스트가 하나 이하의 원소만을 담고 있다면 종료\n",
    "    if len(array) <= 1:\n",
    "        return array\n",
    "    \n",
    "    # 피봇은 첫 번째 원소\n",
    "    pivot = array[0]\n",
    "    # 피봇을 제외한 리스트\n",
    "    tail = array[1:]\n",
    "    \n",
    "    # 분할된 왼쪽 부분\n",
    "    left_side = [x for x in tail if x <= pivot]\n",
    "    # 분할된 오른쪽 부분\n",
    "    right_side = [x for x in tail if x > pivot]\n",
    "    \n",
    "    # 분할 이후 왼쪽 부분과 오른쪽 부분에서 각각 정렬을 수행하고, 전체 리스트를 반환\n",
    "    return quick_sort(left_side) + [pivot] + quick_sort(right_side)\n",
    "\n",
    "print(array)"
   ]
  },
  {
   "cell_type": "markdown",
   "id": "1e30d52b",
   "metadata": {},
   "source": [
    "## 계수 정렬의 시간 복잡도"
   ]
  },
  {
   "cell_type": "code",
   "execution_count": 1,
   "id": "d835d8a5",
   "metadata": {
    "scrolled": true
   },
   "outputs": [
    {
     "name": "stdout",
     "output_type": "stream",
     "text": [
      "[0, 0, 0, 0, 0, 0, 0, 1, 0, 0]\n",
      "[0, 0, 0, 0, 0, 1, 0, 1, 0, 0]\n",
      "[0, 0, 0, 0, 0, 1, 0, 1, 0, 1]\n",
      "[1, 0, 0, 0, 0, 1, 0, 1, 0, 1]\n",
      "[1, 0, 0, 1, 0, 1, 0, 1, 0, 1]\n",
      "[1, 1, 0, 1, 0, 1, 0, 1, 0, 1]\n",
      "[1, 1, 0, 1, 0, 1, 1, 1, 0, 1]\n",
      "[1, 1, 1, 1, 0, 1, 1, 1, 0, 1]\n",
      "[1, 1, 1, 1, 0, 1, 1, 1, 0, 2]\n",
      "[1, 2, 1, 1, 0, 1, 1, 1, 0, 2]\n",
      "[1, 2, 1, 1, 1, 1, 1, 1, 0, 2]\n",
      "[1, 2, 1, 1, 1, 1, 1, 1, 1, 2]\n",
      "[2, 2, 1, 1, 1, 1, 1, 1, 1, 2]\n",
      "[2, 2, 1, 1, 1, 2, 1, 1, 1, 2]\n",
      "[2, 2, 2, 1, 1, 2, 1, 1, 1, 2]\n",
      "001122345567899"
     ]
    }
   ],
   "source": [
    "# 모든 원소의 값이 0보다 크거나 같다고 가정\n",
    "array = [7,5,9,0,3,1,6,2,9,1,4,8,0,5,2]\n",
    "\n",
    "# 모든 범위를 포함하는 리스트 선언(모든 값은 0으로 초기화)\n",
    "count = [0] * (max(array) + 1)\n",
    "\n",
    "for i in range(len(array)):\n",
    "    # 각 데이터에 해당하는 인덱스의 값 증가\n",
    "    count[array[i]] += 1\n",
    "    print(count)\n",
    "    \n",
    "for i in range(len(count)):\n",
    "    for j in range(count[i]):\n",
    "        # 띄어쓰기를 구분으로 등장한 횟수만큼 인덱스 출력\n",
    "        print(i, end = '')"
   ]
  },
  {
   "cell_type": "markdown",
   "id": "e9027f2c",
   "metadata": {},
   "source": [
    "## sorted 소스코드"
   ]
  },
  {
   "cell_type": "code",
   "execution_count": 2,
   "id": "92393b02",
   "metadata": {},
   "outputs": [
    {
     "name": "stdout",
     "output_type": "stream",
     "text": [
      "[0, 1, 2, 3, 4, 5, 6, 7, 8, 9]\n"
     ]
    }
   ],
   "source": [
    "array = [7,5,9,0,3,1,6,2,4,8]\n",
    "\n",
    "result = sorted(array)\n",
    "print(result)"
   ]
  },
  {
   "cell_type": "markdown",
   "id": "090e691f",
   "metadata": {},
   "source": [
    "## sort 소스코드"
   ]
  },
  {
   "cell_type": "code",
   "execution_count": 3,
   "id": "9ec9f873",
   "metadata": {},
   "outputs": [
    {
     "name": "stdout",
     "output_type": "stream",
     "text": [
      "[0, 1, 2, 3, 4, 5, 6, 7, 8, 9]\n"
     ]
    }
   ],
   "source": [
    "array = [7,5,9,0,3,1,6,2,4,8]\n",
    "\n",
    "array.sort()\n",
    "print(array)"
   ]
  },
  {
   "cell_type": "markdown",
   "id": "c2afbe74",
   "metadata": {},
   "source": [
    "## 정렬 라이브러리에서 key를 활용한 소스코드"
   ]
  },
  {
   "cell_type": "code",
   "execution_count": 7,
   "id": "0f189dee",
   "metadata": {},
   "outputs": [
    {
     "name": "stdout",
     "output_type": "stream",
     "text": [
      "[('당근', 3), ('바나나', 2), ('사과', 5)]\n"
     ]
    }
   ],
   "source": [
    "array = [('바나나', 2), ('사과', 5), ('당근', 3)]\n",
    "\n",
    "def setting(data):\n",
    "    return data[0]\n",
    "\n",
    "result = sorted(array, key=setting)\n",
    "print(result)"
   ]
  },
  {
   "cell_type": "markdown",
   "id": "8c7cc770",
   "metadata": {},
   "source": [
    "## 실제문제1) 위에서 아래로"
   ]
  },
  {
   "cell_type": "markdown",
   "id": "e4ae72b7",
   "metadata": {},
   "source": [
    "하나의 수열에는 다양한 수가 존재한다. 이러한 수는 크기에 상관없이 나열되어 있다. 이 수를 큰 수부터 작은 수의 순서로 정렬해야 한다. \n",
    "수열을 내림차순으로 정렬하는 프로그램을 만드시오.\n",
    "\n",
    "- 첫째 줄에 수열에 속해있는 수의 개수는 N이 주어진다. (1 <= N <= 500)\n",
    "- 둘째 줄부터 N+1번째 줄까지 N개의 수가 입력된다. 수의 범위는 1이상 100,000 이하의 자연수이다. \n",
    "\n",
    "- 입력으로 주어진 수열이 내림차순으로 정렬된 결과를 공백으로 구분하여 출력한다. 동일한 수의 순서는 자유롭게 출력해도 괜찮다."
   ]
  },
  {
   "cell_type": "code",
   "execution_count": 8,
   "id": "7bce98f1",
   "metadata": {},
   "outputs": [
    {
     "name": "stdout",
     "output_type": "stream",
     "text": [
      "3\n",
      "15\n",
      "27\n",
      "12\n",
      "27 15 12 "
     ]
    }
   ],
   "source": [
    "n = int(input())\n",
    "\n",
    "array = []\n",
    "\n",
    "for i in range(n):\n",
    "    array.append(int(input()))\n",
    "    \n",
    "array = sorted(array, reverse = True)\n",
    "\n",
    "for i in array:\n",
    "    print(i, end=' ')"
   ]
  },
  {
   "cell_type": "markdown",
   "id": "e0e492c3",
   "metadata": {},
   "source": [
    "## 실제문제2) 성적이 낮은 순서로 학생 출력하기"
   ]
  },
  {
   "cell_type": "markdown",
   "id": "49941a65",
   "metadata": {},
   "source": [
    "N명의 학생 정보가 있다. 학생 정보는 학생의 이름과 학생으로 성적으로 구분된다. 각 학생의 이름과 성적 정보가 주어졌을 때 성적이 낮은 순서대로 학생의 이름을 출력하는 프로그램을 작성하시오.\n",
    "\n",
    "- 첫 번째 줄에 학생의 수 N이 입력된다.(1 <= N <= 100,000)\n",
    "- 두 번째 줄부터 N+1번째 줄에는 학생의 이름을 나타내는 문자열 A와 학생의 성적을 나타내는 정수 B가 공백으로 구분되어 입력된다. 문자열 A의 길이와 학생의 성적은 100 이하의 자연수이다. \n",
    "\n",
    "- 모든 학생의 이름을 성적이 낮은 순서대로 출력한다. 성적이 동일한 학생들의 순서는 자유롭게 출력해도 괜찮다."
   ]
  },
  {
   "cell_type": "code",
   "execution_count": 12,
   "id": "d6f03ac1",
   "metadata": {},
   "outputs": [
    {
     "name": "stdout",
     "output_type": "stream",
     "text": [
      "2\n",
      "홍길동 95\n",
      "이순신 77\n",
      "77 95 "
     ]
    }
   ],
   "source": [
    "n = int(input())\n",
    "\n",
    "array = []\n",
    "for i in range(n):\n",
    "    input_data = input().split()\n",
    "    array.append((input_data[0], int(input_data[1])))\n",
    "    \n",
    "array = sorted(array, key=lambda s: s[1])\n",
    "\n",
    "for student in array:\n",
    "    print(student[1], end=' ')"
   ]
  },
  {
   "cell_type": "markdown",
   "id": "c4da5f61",
   "metadata": {},
   "source": [
    "## 실전문제3) 두 배열의 원소 교체"
   ]
  },
  {
   "cell_type": "markdown",
   "id": "a4399d7e",
   "metadata": {},
   "source": [
    "동빈이는 두 개의 배열 A와 B를 가지고 있다. 두 배열은 N개의 원소로 구성되어 있으며, 배열의 원소는 모두 자연수이다. 동빈이는 최대 K번의 바꿔치기 연산을 수행할 수 있는데, 바꿔치기 연산이란 배열 A에 있는 원소 하나와 배열 B에 있는 원소 하나를 골라서 두 원소를 서로 바꾸는 것을 말한다. 동빈이의 최종 목표는 배열 A의 모든 원소의 합이 최대가 되도록 하는 것이며, 여러분은 동빈이를 도와야 한다. \n",
    "N, K 그리고 배열 A와 B의 정보가 주어졌을 때, 최대 K번의 바꿔치기 연산을 수행하여 만들 수 있는 배열 A의 모든 원소의 합의 최댓값을 출력하는 프로그램을 작성하시오.\n",
    "\n",
    "- 첫 번째 줄에 N,K가 공백으로 구분되어 입력된다.(1 <= N <= 100,000.0, 0 <= K <= N)\n",
    "- 두 번째 줄에 배열 A의 원소들이 공백으로 구분되어 입력된다. 모든 원소는 10,000,000보다 작은 자연수이다.\n",
    "- 세 번째 줄에 배열 B의 원소들이 공백으로 구분되어 입력된다. 모든 원소는 10,000,000보다 작은 자연수이다. \n",
    "- 최대 K번의 바꿔치기 연산을 수행하여 만들 수 있는 배열 A의 모든 원소의 합의 최댓값을 출력한다."
   ]
  },
  {
   "cell_type": "code",
   "execution_count": 19,
   "id": "8b1c84dd",
   "metadata": {},
   "outputs": [
    {
     "name": "stdout",
     "output_type": "stream",
     "text": [
      "5 3\n",
      "1 2 5 4 3\n",
      "5 5 6 6 5\n",
      "26\n"
     ]
    }
   ],
   "source": [
    "# 5 3\n",
    "# 1 2 5 4 3\n",
    "# 5 5 6 6 5\n",
    "\n",
    "n, k = map(int, input().split())\n",
    "\n",
    "a = list(map(int, input().split()))\n",
    "b = list(map(int, input().split()))\n",
    "\n",
    "a.sort()\n",
    "b.sort(reverse = True)\n",
    "\n",
    "for i in range(k):\n",
    "    if a[i] < b[i]:\n",
    "        a[i], b[i] = b[i], a[i]\n",
    "    else:\n",
    "        break\n",
    "        \n",
    "print(sum(a))"
   ]
  },
  {
   "cell_type": "code",
   "execution_count": 33,
   "id": "490de4a3",
   "metadata": {},
   "outputs": [
    {
     "name": "stdout",
     "output_type": "stream",
     "text": [
      "0 45\n",
      "0 0\n"
     ]
    }
   ],
   "source": [
    "a, b = map(int, input().split())\n",
    "\n",
    "if b >= 45:\n",
    "    b = b - 45\n",
    "else:\n",
    "    b = (b + 60) - 45\n",
    "    if a > 0:\n",
    "        a = a - 1 \n",
    "    else:\n",
    "        a = 23\n",
    "   \n",
    "        \n",
    "print(a, b)"
   ]
  },
  {
   "cell_type": "code",
   "execution_count": null,
   "id": "28731fe8",
   "metadata": {},
   "outputs": [],
   "source": []
  },
  {
   "cell_type": "code",
   "execution_count": null,
   "id": "6b92c626",
   "metadata": {},
   "outputs": [],
   "source": []
  }
 ],
 "metadata": {
  "kernelspec": {
   "display_name": "Python 3 (ipykernel)",
   "language": "python",
   "name": "python3"
  },
  "language_info": {
   "codemirror_mode": {
    "name": "ipython",
    "version": 3
   },
   "file_extension": ".py",
   "mimetype": "text/x-python",
   "name": "python",
   "nbconvert_exporter": "python",
   "pygments_lexer": "ipython3",
   "version": "3.8.5"
  }
 },
 "nbformat": 4,
 "nbformat_minor": 5
}
